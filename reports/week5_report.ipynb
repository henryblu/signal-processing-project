{
 "cells": [
  {
   "attachments": {},
   "cell_type": "markdown",
   "metadata": {},
   "source": [
    "# Week 2\n",
    "Programme: Bachelor in Science <br/>\n",
    "Language: English (Python) <br/>\n",
    "<br/>\n",
    "Hours spent: 10 hours <br/>\n",
    "\n",
    "This week I wasn't able to do as much as I wanted to due to a really busy week. However here are soime things that got done\n",
    "- implemented basic unit tests \n",
    "- scaled down the performance test to do what it was meant to do\n",
    "- lots of learning on unit testing and dependency control\n",
    "- fixed repository structure \n",
    "- formatting files \n",
    "- added poetry for dependency control \n",
    "- finnished peer review #1\n",
    "- added basic user guide\n",
    "\n",
    "\n",
    "ToDo:\n",
    "- implement more comprehensive unit test and get a coverage report using codecov\n",
    "- update project specification\n",
    "- update testing guide\n",
    "- get performance test to generate graphs for algorithm comparison\n",
    "- implement FFT that can take all file lengths\n",
    "- implement poetry running commands to run the program\n",
    "- implement noise reduction algoithms \n",
    "- implement function to read mp3 file \n",
    "- implement better graphing functions\n",
    "- software diagram\n",
    "- second peer review \n",
    "\n",
    "\n",
    "\n"
   ]
  }
 ],
 "metadata": {
  "language_info": {
   "name": "python"
  },
  "orig_nbformat": 4
 },
 "nbformat": 4,
 "nbformat_minor": 2
}
