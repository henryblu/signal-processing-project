{
 "cells": [
  {
   "attachments": {},
   "cell_type": "markdown",
   "metadata": {},
   "source": [
    "# Week 4\n",
    "Programme: Bachelor in Science <br/>\n",
    "Language: English (Python) <br/>\n",
    "<br/>\n",
    "Hours spent: 20 hours <br/>\n",
    "\n",
    "a lot went wrong in the last two weeks. \n",
    "\n",
    "at first, I tried to continue with my implementiaon of the noise reduction function, however, as I progressed, I couldn't get it to work no matter what I did. In the end I decided to turn to my allention to unit testing what I had done.\n",
    "As I set up an elementry unit test, I found that 3 out of the 4 algoithms wern't working. This was frusterating because I though I had them working however, there were definatly some bugs as I found out that the functions were working under illegal conditions. \n",
    "after I fixed the functions I started to set up a rudementry performance test that could test the functions to make sure that they were running in propper time intervals given the input size. In the end I got that working with a few bugs to sort out here and there.\n",
    "\n",
    "However then my unit test became a performance test.\n",
    "I took the oppertunity to do some reaserch on how to do proper unit testing in python and found the unittest library for testing and test coverage. \n",
    "At this point, I've yet to implement the proper unit tests, but now that I know what I'm doing, it shouldn't be that hard. After that, I can write the testing document and see where I'm left\n",
    "\n",
    "ToDo:\n",
    "- finish testing document \n",
    "- update requirements \n",
    "- implement noise reduction algoithms \n",
    "- implement function to read mp3 file \n",
    "- implement better graphing functions\n",
    "\n",
    "\n"
   ]
  }
 ],
 "metadata": {
  "language_info": {
   "name": "python"
  },
  "orig_nbformat": 4
 },
 "nbformat": 4,
 "nbformat_minor": 2
}
