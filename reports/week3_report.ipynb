{
 "cells": [
  {
   "attachments": {},
   "cell_type": "markdown",
   "metadata": {},
   "source": [
    "# Week 2\n",
    "Programme: Bachelor in Science <br/>\n",
    "Language: English (Python) <br/>\n",
    "<br/>\n",
    "Hours spent: 15 hours <br/>\n",
    "\n",
    "This week went mostly well. On one hand, I got the core algorithms working such that the output graphs look correct. On the other hand, I haven't started coding the testing files and there were a few things that I got stuck on multiple times.\n",
    "\n",
    "I started this week by making some rough software diagrams and mapping out the general functions I would need. Then I did some slight optimising and made the files for the repository. Next, I started looking for a sound wave that I could test with. \n",
    "\n",
    "First I learned how to use a flag system and set up some flags for parameter choosing. I encountered a frustrating bug where calling one of my flags for displaying help ended up conflicting with pythons built-in help system. This took way too long to debug but after that my flags worked well.  \n",
    "\n",
    "Next, I spent a lot of time at this step trying to figure out what sort of sound file I could use. At first, I tried to make a function that would read mp3 and mp4 files and convert them into sound waves, this proved to be much more difficult in practice than I thought it would be. After researching for about an hour, I decided to use a .wav file for now as they are much easier to work with. \n",
    "\n",
    "Then I set up a simple system for graphing the waves and transforms while I'm developing. Eventually, I will have it work so all the graphs will show at once at the end of the program but for now, I just need to see the graphs work for testing so I made this simple setup. \n",
    "\n",
    "Then I got to work on coding the bulk of what I've done this week. In the end, although it took some time, I have gotten both regular and fast Fourier transforms to work. Currently, the regular Fourier transform is slow, it took minutes to get the transform which is too long. I'm thinking I might limit the soundwave size or something of that matter for the basic Fourier transform but we'll see. \n",
    "\n",
    "I plan to start:\n",
    "1. Making a better benchmarking program using the python Scripty library which implements noise filtering on a sound wave\n",
    "2. Implementing Comprehensive unit testing of the code\n",
    "3. Creating a program for graphing results \n",
    "4. Working on making my own DFT and FFT algorithms\n",
    "6. Creating more documentation for the project"
   ]
  }
 ],
 "metadata": {
  "language_info": {
   "name": "python"
  },
  "orig_nbformat": 4
 },
 "nbformat": 4,
 "nbformat_minor": 2
}
