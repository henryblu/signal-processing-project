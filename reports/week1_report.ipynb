{
 "cells": [
  {
   "attachments": {},
   "cell_type": "markdown",
   "metadata": {},
   "source": [
    "# Week 1 \n",
    "Programme: Bachelor in Science <br/>\n",
    "Language: english (Python) <br/>\n",
    "<br/>\n",
    "Hourse spent: 10 hours <br/>\n",
    "\n",
    "This week, I mostly just learned about the couse and looked into what topic I wanted to choose. \n",
    "In the begining, I was thinking about doing somthing related to maze algorityhms or somthing like that. \n",
    "However after looking into the kinds of topics I could do a project in, I think doing an investigation into Signal processing algorithms would be personally really interesting. \n",
    "In the past, I have studied radio signals and propagation and I am personally quite interested in the topic. \n",
    "After picking my topic, I looked into the different types of transformation algorithms and data sets I could use for the project.\n",
    "I decided that I will start with learning about Fourier transformations and then if I have times, start looking into Hilbert transfomations.\n",
    "During my reading I also read about how ML can be used for signal processing. However I have no Idea how that is done nor how I would do that. \n",
    "If I have time, I would definitly like to look into that. \n",
    "The rest of my time was spent looking into how this couse works. This was a bit more confusing then I hoped it would be. \n",
    "At this point, I think I understad everything, however the couse instrucitons are in finnish so I'm not sure if I'm missing anything.\n",
    "\n",
    "Next week I will start to builld out my repository and do more reaserch into my algotihms. Hopefully I will also have enough knowledge to start coding. \n"
   ]
  }
 ],
 "metadata": {
  "language_info": {
   "name": "python"
  },
  "orig_nbformat": 4
 },
 "nbformat": 4,
 "nbformat_minor": 2
}
