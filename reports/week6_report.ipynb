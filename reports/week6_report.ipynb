{
 "cells": [
  {
   "attachments": {},
   "cell_type": "markdown",
   "metadata": {},
   "source": [
    "# Week 2\n",
    "Programme: Bachelor in Science <br/>\n",
    "Language: English (Python) <br/>\n",
    "<br/>\n",
    "Hours spent: 15 hours \n",
    "\n",
    "things done: \n",
    "1. peer review #2 started at 21:38 25.05.2023. Peer review finished on 26.05.2023\n",
    "2. fixed program structure to be packagable \n",
    "- doing that, I added a bunch of convifuation files and rearagned the program structure\n",
    "3. implemented poetry based on peer reviewers comments \n",
    "4. implemented linting system and linted the code \n",
    "5. implemented codecov and got coverage reports to actually work \n",
    "6. added more rigourous testing \n",
    "\n",
    "Things todo: \n",
    "1. fix documentation so that it actually serves it purpose \n",
    "2. fix noise reduction program \n",
    "3. add a different version of fourier transform that works for all file sizes \n",
    "\n",
    "\n"
   ]
  }
 ],
 "metadata": {
  "language_info": {
   "name": "python"
  },
  "orig_nbformat": 4
 },
 "nbformat": 4,
 "nbformat_minor": 2
}
