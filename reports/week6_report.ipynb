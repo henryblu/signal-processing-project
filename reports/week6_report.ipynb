{
 "cells": [
  {
   "attachments": {},
   "cell_type": "markdown",
   "metadata": {},
   "source": [
    "# Week 2\n",
    "Programme: Bachelor in Science <br/>\n",
    "Language: English (Python) <br/>\n",
    "<br/>\n",
    "Hours spent: \n",
    "\n",
    "things done: \n",
    "1. peer review #2 started at 21:38 25.05.2023. Peer review finished on 26.05.2023\n"
   ]
  }
 ],
 "metadata": {
  "language_info": {
   "name": "python"
  },
  "orig_nbformat": 4
 },
 "nbformat": 4,
 "nbformat_minor": 2
}
