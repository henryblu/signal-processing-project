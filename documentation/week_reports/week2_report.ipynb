{
 "cells": [
  {
   "attachments": {},
   "cell_type": "markdown",
   "metadata": {},
   "source": [
    "# Week 2\n",
    "Programme: Bachelor in Science <br/>\n",
    "Language: english (Python) <br/>\n",
    "<br/>\n",
    "Hourse spent: 12 hours <br/>\n",
    "\n",
    "This week, I was travelling until friday and thus did not get as much done as I wanted to. \n",
    "\n",
    "Over the week, I mainly did research and refined my topic. Last week, I had a few ideas for what kind of algorithms I wanted investigate and planned to start coding this week. However, my planned topic was much too large and had no deliverable. Because of this, I did a lot more research on what kind of things I could do in signal processing. In the end, I chose to focus on discrete and fast Fourier transforms for noise filtering. \n",
    "\n",
    "After picking my topic, I started to research how the algorithm works and how to use the algorithm for noise filtering. Unfortunately, this took much longer than I expected. My linear algebra needed a refresher, and at first, the concept of the Fourier transform was hard to grasp. However, now understanding how Fourier transforms work, understanding how the algorithms for discrete Fourier transform (DFT) and fast Fourier Transforms (FFT) was not too hard. After that, learing about how to apply FFT for noise filtering didn't take too much time. \n",
    "At this point, I also have a better grasp on how to implement testing using benchmark python Scripty algorithms and how to display my outcomes using NumPy graphs. \n",
    "\n",
    "Unfortunately, I do not have much to show in the ways of code, but next week, now that I am back from travelling and know what I'm doing, I plan to start:\n",
    "1. Make a benchmarking program using the python Scripty library which implements noise filtering on a sound wave\n",
    "2. Create a main program for imputing sound waves and outputting results\n",
    "3. Create a program for graphing results \n",
    "4. prototype making my own DFT and FFT algorithms\n",
    "5. Implement Comprehensive unit testing of the code\n",
    "6. Create documentation for the project"
   ]
  }
 ],
 "metadata": {
  "language_info": {
   "name": "python"
  },
  "orig_nbformat": 4
 },
 "nbformat": 4,
 "nbformat_minor": 2
}
