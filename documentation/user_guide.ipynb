{
 "cells": [
  {
   "attachments": {},
   "cell_type": "markdown",
   "metadata": {},
   "source": [
    "# User Guide\n",
    "\n",
    "## Program Execusion and dependencies \n",
    "\n",
    "1. close repository \n",
    "2. install base packages:\n",
    "\n",
    "        Program interpreter: python (>=3.9,<=3.11)\n",
    "        - for installation refer to: https://www.python.org/downloads/\n",
    "\n",
    "        Dependency Installer: Poetry (version 1.4.2)\n",
    "        - for installation refer to: https://python-poetry.org/docs/\n",
    "3. install dependencies using poetry using comand:\n",
    "        \n",
    "        install poetry\n",
    "\n",
    "- now you should be ready to run the program!\n",
    "\n",
    "## Executalbes\n",
    "- To execute this program please navagate to, and run the main function located at \n",
    "\n",
    "        ../src/main.py\n",
    "\n",
    "- there are a number of flags that can be set, to discover them use:\n",
    "\n",
    "        python path/to/main.py -h\n",
    "\n",
    "\n",
    "\n",
    "## Program inputs\n",
    "\n",
    "- usingt the --input flag, you can specify the input file you want to use\n",
    "        \n",
    "        *#1 at the moment, the fast fourier transform only works with files which have a length which is power of two\n",
    "        *#2 regular fourier transforms are really, really slow for imputs, so watch out. \n",
    "\n"
   ]
  },
  {
   "cell_type": "code",
   "execution_count": null,
   "metadata": {},
   "outputs": [],
   "source": [
    "\n"
   ]
  }
 ],
 "metadata": {
  "kernelspec": {
   "display_name": "Python 3",
   "language": "python",
   "name": "python3"
  },
  "language_info": {
   "name": "python",
   "version": "3.11.0"
  },
  "orig_nbformat": 4
 },
 "nbformat": 4,
 "nbformat_minor": 2
}
