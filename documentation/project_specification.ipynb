{
 "cells": [
  {
   "attachments": {},
   "cell_type": "markdown",
   "metadata": {},
   "source": [
    "# Project Specification Document\n",
    "### Degree Programme: **Bachelor in Science**\n",
    "### Documentation Language: **English** \n",
    "### Coding Language: **Python** \n",
    "\n",
    "<br>\n",
    "\n",
    "## Problem and Algorithm Choice \n",
    "In this project, I make a program that implements noise filtering on a sound wave using Fourier transforms. In this project, I investigate the following algorithms: the Discrete Fourier transform (DFT) and Fast Fourier transform (FFT). The program takes in a sample noisy input wave and outputs graphs of the same wave with different noise cancellation thresholds using my own Fourier transform program. For testing, I used the python library Scripty's DFT  and FFT algorithms and compared their output and efficiency. \n",
    "\n",
    "\n",
    "## Program Input\n",
    "- the input will be a sample radio wave stored in a matrix of time/power pairs. \n",
    "\n",
    "## Data structures and algorithms\n",
    "- Fourier transform \n",
    "- Fast forier transform\n",
    "\n",
    "Firstly, to process the sound wave, I will use a regular Fourier transformation which is very time inefficient given the large size of noise waves. Then, I filter out the noise of the sound wave using different cutoff thresholds to represent more and less noise filtering. The noise wave then undergoes an inverse Fourier transform and is visualised using a pychart.\n",
    "Finally, the same process is done using a fast Fourier transformation algorithm and the time and space requirements for the two programs are compared. \n",
    "\n",
    "## Time complexity\n",
    "Fourier transformations require O(n^2) time complexity and O(n) space complexity. Here, n is the number of data points in the radio wave.\n",
    "Fast Fourier transformations require an O(n^2)to O(n*log(n)) time complexity and O(n) space complexity. Once again, here n is the number of data points in the radio wave.\n",
    "Hilbert transformation inherits the regular Fourier transformation time and space complexity of O(n^2) and O(n). \n",
    "\n",
    "## Sources:\n",
    "Driven Science and Engineering: Machine Learning, Dynamical Systems, and Control 1st Edition by Steven L. Brunton & J. Nathan Kutz (chapter 2)\n",
    "Noise cancellation with Python and Fourier Transform https://towardsdatascience.com/noise-cancellation-with-python-and-fourier-transform-97303314aa71"
   ]
  }
 ],
 "metadata": {
  "language_info": {
   "name": "python"
  },
  "orig_nbformat": 4
 },
 "nbformat": 4,
 "nbformat_minor": 2
}
