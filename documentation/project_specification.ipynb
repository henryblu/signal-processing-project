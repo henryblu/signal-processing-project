{
 "cells": [
  {
   "attachments": {},
   "cell_type": "markdown",
   "metadata": {},
   "source": [
    "# Project specification\n",
    "\n",
    "Programme: **Bachelor in Science** \n",
    "<br/>\n",
    "Language of the project: **English** \n",
    "<br/>\n",
    "Coding language: **Python** \n",
    "<br/>\n",
    "\n",
    "## Problem\n",
    "\n",
    "In this course, I investigate signal processing algorithms. As an outcome of this project, I want to learn how to implement noise filtering using Fourier transforms on a radio wave. I will start by investigating the basic Fourier transform algorithm and trying to implement one myself. Then  I will implement and compare the basic algorithm to the fast Fourier transform algorithm. Both algorithms will output a frequency-time graph using some visual representation and Matplotlib to demonstrate the difference.\n",
    "\n",
    "## Data structures and algorithms\n",
    "\n",
    "Signal Processing:\n",
    "- Forier transfom \n",
    "- Fast forier transform\n",
    "\n",
    "For the signal I will be using in this project, I will use a basic unfiltered radio wave from a python library\n",
    "To processes this radio wave, I will use firstly a regular fourier transformation which is really space and time inefficient. \n",
    "Then implement a fast fourier transformaiton algorithm which has a much faster time complexity.\n",
    "Finally I will implement a hilbert's transformaiton algotihm.\n",
    "Each of these three algorithms will be visulaied using pychart and posibly some sort of animation to demonstrate time complexity. \n",
    "\n",
    "\n",
    "## Input\n",
    "\n",
    "the imput will be a randomised radio wave which will be stored in a matrix of time/power pairs. \n",
    "<br/>\n",
    "\n",
    "## Time complexity\n",
    "\n",
    "Forier transformations require O(n^2) time complexity and O(n) space complexity. Here, n is the numebr of data points in the radio wave. <br/>\n",
    "Fast Forier transformations require a O(n^2)to O(n*log(n)) time complexity and O(n) space complexity. Once again here, n is the numebr of data points in the radio wave. <br/>\n",
    "Hilbert tramsformation inheris the regular forier transformation time and space complexity of O(n^2) and O(n). <br/>\n",
    "\n",
    "<br/>\n",
    "\n",
    "## Sources:\n",
    "to be decided\n"
   ]
  }
 ],
 "metadata": {
  "language_info": {
   "name": "python"
  },
  "orig_nbformat": 4
 },
 "nbformat": 4,
 "nbformat_minor": 2
}
