{
 "cells": [
  {
   "attachments": {},
   "cell_type": "markdown",
   "metadata": {},
   "source": [
    "# Project specification\n",
    "Degree Programme: **Bachelor in Science** \n",
    "<br/>\n",
    "Documetation Language: **English** \n",
    "<br/>\n",
    "Coding Language: **Python** \n",
    "<br/>\n",
    "\n",
    "## Problem and Algorithm Choice \n",
    "In this project, I investigate Fourier and Fast Fourier transforms. I chose this topic because I thought it would be interesting to learn how to implement noise filtering on radio waves. I started by researching the Fourier Transform and tried coding the transform myself. Then, to test my algorithm, I used the python library Scripty's Fourier transform algorithm and compared their output and efficiency. Finally, I created a fast Fourier transform algorithm and compared its efficiency to the basic Fourier transform algorithm and Scripty's fast Fourier transform algorithm. \n",
    "\n",
    "## Data structures and algorithms\n",
    "Signal Processing:\n",
    "- Forier transfom \n",
    "- Fast forier transform\n",
    "For the signal I will be using in this project, I will use a basic unfiltered radio wave from a python library\n",
    "To processes this radio wave, I will use firstly a regular fourier transformation which is really space and time inefficient. \n",
    "Then implement a fast fourier transformaiton algorithm which has a much faster time complexity.\n",
    "Finally I will implement a hilbert's transformaiton algotihm.\n",
    "Each of these three algorithms will be visulaied using pychart and posibly some sort of animation to demonstrate time complexity. \n",
    "\n",
    "## Input\n",
    "the imput will be a randomised radio wave which will be stored in a matrix of time/power pairs. \n",
    "\n",
    "## Time complexity\n",
    "Forier transformations require O(n^2) time complexity and O(n) space complexity. Here, n is the numebr of data points in the radio wave. <br/>\n",
    "Fast Forier transformations require a O(n^2)to O(n*log(n)) time complexity and O(n) space complexity. Once again here, n is the numebr of data points in the radio wave. <br/>\n",
    "Hilbert tramsformation inheris the regular forier transformation time and space complexity of O(n^2) and O(n). <br/>\n",
    "\n",
    "## Sources:\n",
    "to be decided\n"
   ]
  }
 ],
 "metadata": {
  "language_info": {
   "name": "python"
  },
  "orig_nbformat": 4
 },
 "nbformat": 4,
 "nbformat_minor": 2
}
