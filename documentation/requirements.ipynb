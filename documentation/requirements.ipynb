{
 "cells": [
  {
   "attachments": {},
   "cell_type": "markdown",
   "metadata": {},
   "source": [
    "## All required python libraries for this project:\n",
    "\n",
    "1. scipy\n",
    "    used for audio file conversion for data processing\n",
    "command to install scipy \n",
    "pip install scipy\n"
   ]
  }
 ],
 "metadata": {
  "language_info": {
   "name": "python"
  },
  "orig_nbformat": 4
 },
 "nbformat": 4,
 "nbformat_minor": 2
}
