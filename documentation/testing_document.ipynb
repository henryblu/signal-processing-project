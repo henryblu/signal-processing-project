{
 "cells": [
  {
   "attachments": {},
   "cell_type": "markdown",
   "metadata": {},
   "source": [
    "# Testing\n",
    "\n",
    "<br/>\n",
    "\n",
    "## General\n",
    "\n",
    "testing document needs to be implemented \n",
    "\n",
    "# for now, all testing has been done using the performance_test.py file\n"
   ]
  }
 ],
 "metadata": {
  "language_info": {
   "name": "python"
  },
  "orig_nbformat": 4
 },
 "nbformat": 4,
 "nbformat_minor": 2
}
